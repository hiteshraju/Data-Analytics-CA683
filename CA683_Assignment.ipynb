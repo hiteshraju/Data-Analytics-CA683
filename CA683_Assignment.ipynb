{
 "cells": [
  {
   "cell_type": "markdown",
   "metadata": {
    "_uuid": "594fefdf5f21df93cca9519027d46cb5a0de3dc8"
   },
   "source": [
    "#    Trends in USA Visa Application and Decision Prediction"
   ]
  },
  {
   "cell_type": "markdown",
   "metadata": {
    "_uuid": "206994881913ba42bf37f7a7cf288d1ea7572a75"
   },
   "source": [
    "## Step 1: Import all the required libraries"
   ]
  },
  {
   "cell_type": "code",
   "execution_count": 1,
   "metadata": {
    "_uuid": "f20df72828cd5dd3ea4a3943500dd91644e5fed7"
   },
   "outputs": [],
   "source": [
    "## import library\n",
    "import pandas as pd\n",
    "import numpy as np\n",
    "import difflib as dff\n",
    "\n",
    "## Imports for different type of classfiers\n",
    "from sklearn import tree\n",
    "import sklearn.linear_model as linear_model \n",
    "from sklearn.feature_selection import RFE\n",
    "from sklearn.linear_model import LogisticRegression\n",
    "model=LogisticRegression(max_iter=300000)\n",
    "from numpy import mean\n",
    "from numpy import std\n",
    "from sklearn.datasets import make_regression\n",
    "from sklearn.model_selection import cross_val_score\n",
    "from sklearn.model_selection import RepeatedKFold\n",
    "from sklearn.tree import DecisionTreeRegressor\n",
    "from sklearn.model_selection import train_test_split\n",
    "from sklearn.datasets import make_classification\n",
    "from sklearn.pipeline import make_pipeline\n",
    "from sklearn.preprocessing import StandardScaler\n",
    "from sklearn.pipeline import Pipeline\n",
    "import sklearn.metrics as metrics\n",
    "from sklearn import preprocessing\n",
    "\n",
    "import matplotlib.pyplot as plt\n",
    "import plotly.express as px\n",
    "%matplotlib inline"
   ]
  },
  {
   "cell_type": "markdown",
   "metadata": {
    "_uuid": "e5016db32d5afafff39a69c9102111b5d9a932c8"
   },
   "source": [
    "## Step 2: Import the dataset in a dataframe"
   ]
  },
  {
   "cell_type": "code",
   "execution_count": 2,
   "metadata": {
    "_uuid": "8210411ea4b5040de6536948833cce6af5657613"
   },
   "outputs": [],
   "source": [
    "## reading csv file\n",
    "dataset= pd.read_csv(\"/Users/ankitgusain/Downloads/h1b_kaggle.csv\")"
   ]
  },
  {
   "cell_type": "code",
   "execution_count": 3,
   "metadata": {},
   "outputs": [],
   "source": [
    "## Removing first colum that is unnecessary\n",
    "dataset = dataset.iloc[: , 1:]"
   ]
  },
  {
   "cell_type": "code",
   "execution_count": 4,
   "metadata": {},
   "outputs": [
    {
     "data": {
      "text/html": [
       "<div>\n",
       "<style scoped>\n",
       "    .dataframe tbody tr th:only-of-type {\n",
       "        vertical-align: middle;\n",
       "    }\n",
       "\n",
       "    .dataframe tbody tr th {\n",
       "        vertical-align: top;\n",
       "    }\n",
       "\n",
       "    .dataframe thead th {\n",
       "        text-align: right;\n",
       "    }\n",
       "</style>\n",
       "<table border=\"1\" class=\"dataframe\">\n",
       "  <thead>\n",
       "    <tr style=\"text-align: right;\">\n",
       "      <th></th>\n",
       "      <th>CASE_STATUS</th>\n",
       "      <th>EMPLOYER_NAME</th>\n",
       "      <th>SOC_NAME</th>\n",
       "      <th>JOB_TITLE</th>\n",
       "      <th>FULL_TIME_POSITION</th>\n",
       "      <th>PREVAILING_WAGE</th>\n",
       "      <th>YEAR</th>\n",
       "      <th>WORKSITE</th>\n",
       "      <th>lon</th>\n",
       "      <th>lat</th>\n",
       "    </tr>\n",
       "  </thead>\n",
       "  <tbody>\n",
       "    <tr>\n",
       "      <th>0</th>\n",
       "      <td>CERTIFIED-WITHDRAWN</td>\n",
       "      <td>UNIVERSITY OF MICHIGAN</td>\n",
       "      <td>BIOCHEMISTS AND BIOPHYSICISTS</td>\n",
       "      <td>POSTDOCTORAL RESEARCH FELLOW</td>\n",
       "      <td>N</td>\n",
       "      <td>36067.0</td>\n",
       "      <td>2016.0</td>\n",
       "      <td>ANN ARBOR, MICHIGAN</td>\n",
       "      <td>-83.743038</td>\n",
       "      <td>42.280826</td>\n",
       "    </tr>\n",
       "    <tr>\n",
       "      <th>1</th>\n",
       "      <td>CERTIFIED-WITHDRAWN</td>\n",
       "      <td>GOODMAN NETWORKS, INC.</td>\n",
       "      <td>CHIEF EXECUTIVES</td>\n",
       "      <td>CHIEF OPERATING OFFICER</td>\n",
       "      <td>Y</td>\n",
       "      <td>242674.0</td>\n",
       "      <td>2016.0</td>\n",
       "      <td>PLANO, TEXAS</td>\n",
       "      <td>-96.698886</td>\n",
       "      <td>33.019843</td>\n",
       "    </tr>\n",
       "  </tbody>\n",
       "</table>\n",
       "</div>"
      ],
      "text/plain": [
       "           CASE_STATUS           EMPLOYER_NAME                       SOC_NAME  \\\n",
       "0  CERTIFIED-WITHDRAWN  UNIVERSITY OF MICHIGAN  BIOCHEMISTS AND BIOPHYSICISTS   \n",
       "1  CERTIFIED-WITHDRAWN  GOODMAN NETWORKS, INC.               CHIEF EXECUTIVES   \n",
       "\n",
       "                      JOB_TITLE FULL_TIME_POSITION  PREVAILING_WAGE    YEAR  \\\n",
       "0  POSTDOCTORAL RESEARCH FELLOW                  N          36067.0  2016.0   \n",
       "1       CHIEF OPERATING OFFICER                  Y         242674.0  2016.0   \n",
       "\n",
       "              WORKSITE        lon        lat  \n",
       "0  ANN ARBOR, MICHIGAN -83.743038  42.280826  \n",
       "1         PLANO, TEXAS -96.698886  33.019843  "
      ]
     },
     "execution_count": 4,
     "metadata": {},
     "output_type": "execute_result"
    }
   ],
   "source": [
    "## checking the top 2 rows of our data set\n",
    "dataset.head(2)"
   ]
  },
  {
   "cell_type": "code",
   "execution_count": 5,
   "metadata": {},
   "outputs": [
    {
     "data": {
      "text/plain": [
       "3002458"
      ]
     },
     "execution_count": 5,
     "metadata": {},
     "output_type": "execute_result"
    }
   ],
   "source": [
    "## check number of rows before cleaning\n",
    "len(dataset)"
   ]
  },
  {
   "cell_type": "code",
   "execution_count": 6,
   "metadata": {},
   "outputs": [
    {
     "data": {
      "text/plain": [
       "10"
      ]
     },
     "execution_count": 6,
     "metadata": {},
     "output_type": "execute_result"
    }
   ],
   "source": [
    "## check number of columns before cleaning\n",
    "len(dataset.columns)"
   ]
  },
  {
   "cell_type": "code",
   "execution_count": 7,
   "metadata": {
    "_uuid": "9108ca5a0b3f47470fd52fbf8a7efa5baa43b215"
   },
   "outputs": [],
   "source": [
    "## removing null values from selected columns\n",
    "dataset = dataset.dropna(axis=0, how='any',\n",
    "                         subset = ['EMPLOYER_NAME', 'SOC_NAME', 'JOB_TITLE', \n",
    "                                   'FULL_TIME_POSITION', 'PREVAILING_WAGE','WORKSITE'])"
   ]
  },
  {
   "cell_type": "code",
   "execution_count": 8,
   "metadata": {},
   "outputs": [],
   "source": [
    "# taking only 3 case status that are used in our analysis\n",
    "dataset = dataset.loc[dataset['CASE_STATUS'].isin([\"CERTIFIED\", \"DENIED\", \"REJECTED\"])]"
   ]
  },
  {
   "cell_type": "code",
   "execution_count": 9,
   "metadata": {},
   "outputs": [],
   "source": [
    "## converting column names to upper case and data conversion\n",
    "dataset['YEAR'] = dataset['YEAR'].astype(int)\n",
    "dataset['EMPLOYER_NAME'] = dataset['EMPLOYER_NAME'].str.upper()\n",
    "dataset['SOC_NAME'] = dataset['SOC_NAME'].str.upper()\n",
    "dataset['JOB_TITLE'] = dataset['JOB_TITLE'].str.upper()\n",
    "dataset['FULL_TIME_POSITION'] = dataset['FULL_TIME_POSITION'].str.upper()"
   ]
  },
  {
   "cell_type": "code",
   "execution_count": 10,
   "metadata": {},
   "outputs": [
    {
     "data": {
      "text/plain": [
       "2694004"
      ]
     },
     "execution_count": 10,
     "metadata": {},
     "output_type": "execute_result"
    }
   ],
   "source": [
    "## check number of rows after cleaning the dataset\n",
    "len(dataset)"
   ]
  },
  {
   "cell_type": "markdown",
   "metadata": {
    "_uuid": "27f4fc138ec39688c33647a96fbe6173dbd6a7d8"
   },
   "source": [
    "<span style='color:Black'></span>\n",
    "#  Trends in our data "
   ]
  },
  {
   "cell_type": "markdown",
   "metadata": {
    "_uuid": "e4bf029bdcffab979e4c39236b2b54531ad3f5a2"
   },
   "source": [
    "<span style='color:Black'></span>\n",
    "## Top 10 SOC for which visas are filed - Data Analysis 1"
   ]
  },
  {
   "cell_type": "code",
   "execution_count": 11,
   "metadata": {
    "_uuid": "cabfb5335741660584eb80b8ad8cc5d14e1b16fd",
    "scrolled": true
   },
   "outputs": [
    {
     "data": {
      "text/plain": [
       "Text(0, 0.5, 'SOC')"
      ]
     },
     "execution_count": 11,
     "metadata": {},
     "output_type": "execute_result"
    },
    {
     "data": {
      "image/png": "[encoded data removed]",
      "text/plain": [
       "<Figure size 432x288 with 1 Axes>"
      ]
     },
     "metadata": {
      "needs_background": "light"
     },
     "output_type": "display_data"
    }
   ],
   "source": [
    "top10_SOC = dataset['SOC_NAME'].value_counts()[:10].plot.barh(title= \"Top 10 SOC Position\",color='lightseagreen',figsize=(6,4), sort_columns='true')\n",
    "top10_SOC.set_xlabel('count')\n",
    "top10_SOC.set_ylabel('SOC')"
   ]
  },
  {
   "cell_type": "markdown",
   "metadata": {
    "_uuid": "cb914ad14822d98155e484bb013ae39fc16dde14"
   },
   "source": [
    "<span style='color:Black'></span>\n",
    "##  Top 10 Employers who filed visas - Data Analysis 2"
   ]
  },
  {
   "cell_type": "code",
   "execution_count": 12,
   "metadata": {
    "_uuid": "b7376ceb2f7b234fd363c1c3279120819d8093ca"
   },
   "outputs": [
    {
     "data": {
      "text/plain": [
       "Text(0, 0.5, 'Employer Name')"
      ]
     },
     "execution_count": 12,
     "metadata": {},
     "output_type": "execute_result"
    },
    {
     "data": {
      "image/png": "[encoded data removed]",
      "text/plain": [
       "<Figure size 432x288 with 1 Axes>"
      ]
     },
     "metadata": {
      "needs_background": "light"
     },
     "output_type": "display_data"
    }
   ],
   "source": [
    "top10_SOC = dataset['EMPLOYER_NAME'].value_counts()[:10].plot.bar(title= \"Top 10 Employers\",color='peru',figsize=(6,4))\n",
    "top10_SOC.set_xlabel('Count')\n",
    "top10_SOC.set_ylabel('Employer Name')"
   ]
  },
  {
   "cell_type": "markdown",
   "metadata": {
    "_uuid": "8fc1a10235fc7fa2dcfde65db627ea07a0b806a4"
   },
   "source": [
    "## Acceptance rate of the Visa Application in different years - Data Analysis 3"
   ]
  },
  {
   "cell_type": "code",
   "execution_count": 52,
   "metadata": {
    "_uuid": "3eb61a9705d64d2d567504211604daa2ed2346be"
   },
   "outputs": [
    {
     "data": {
      "image/png": "[encoded data removed]",
      "text/plain": [
       "<Figure size 432x288 with 1 Axes>"
      ]
     },
     "metadata": {
      "needs_background": "light"
     },
     "output_type": "display_data"
    },
    {
     "data": {
      "image/png": "[encoded data removed]",
      "text/plain": [
       "<Figure size 432x288 with 1 Axes>"
      ]
     },
     "metadata": {
      "needs_background": "light"
     },
     "output_type": "display_data"
    }
   ],
   "source": [
    "dfplot_status_year = pd.DataFrame(dataset['YEAR'].value_counts())\n",
    "dfplot_status_year = dfplot_status_year.sort_values(['YEAR'])\n",
    "plot_status_year = dfplot_status_year.plot(title = 'Applications per year', kind = 'line',color='darkgreen')\n",
    "plot_status_year.set_xlabel('Year')\n",
    "plot_status_year.set_ylabel('No. Of Applications')\n",
    "plt.show()\n",
    "\n",
    "dfstatus_acceptance_yearly = pd.DataFrame(dataset[dataset['CASE_STATUS'] == 'CERTIFIED'].YEAR.value_counts() / dataset.YEAR.value_counts())\n",
    "dfstatus_acceptance_yearly = dfstatus_acceptance_yearly.sort_values(['YEAR'])\n",
    "status_acceptance_yearly = dfstatus_acceptance_yearly.plot(title = 'Acceptance per year', kind = 'line',color='green')\n",
    "status_acceptance_yearly.set_xlabel('Year')\n",
    "status_acceptance_yearly.set_ylabel('Ratio Of Acceptance')\n",
    "plt.show()"
   ]
  },
  {
   "cell_type": "markdown",
   "metadata": {
    "_uuid": "a2548d649b8dab0a982215749544c0c9b98e546b"
   },
   "source": [
    "### consider only certified or declined case status"
   ]
  },
  {
   "cell_type": "code",
   "execution_count": 14,
   "metadata": {
    "_uuid": "b4fcc5afce0765a51b1cfcf79647904adf64c04d"
   },
   "outputs": [
    {
     "name": "stdout",
     "output_type": "stream",
     "text": [
      "['CERTIFIED' 'DENIED' 'REJECTED']\n"
     ]
    }
   ],
   "source": [
    "print(dataset['CASE_STATUS'].unique())\n",
    "dataset = dataset.loc[dataset['CASE_STATUS'].isin([\"CERTIFIED\", \"DENIED\"])]"
   ]
  },
  {
   "cell_type": "markdown",
   "metadata": {
    "_uuid": "6bdc7b311c34c2009396c14e18ddb95390e005e0"
   },
   "source": [
    "### Check if we have null values"
   ]
  },
  {
   "cell_type": "code",
   "execution_count": 15,
   "metadata": {
    "_uuid": "34379dc661d4f84742c82e295f9dc3b848e3c605"
   },
   "outputs": [
    {
     "data": {
      "text/plain": [
       "CASE_STATUS               0\n",
       "EMPLOYER_NAME             0\n",
       "SOC_NAME                  0\n",
       "JOB_TITLE                 0\n",
       "FULL_TIME_POSITION        0\n",
       "PREVAILING_WAGE           0\n",
       "YEAR                      0\n",
       "WORKSITE                  0\n",
       "lon                   96727\n",
       "lat                   96727\n",
       "dtype: int64"
      ]
     },
     "execution_count": 15,
     "metadata": {},
     "output_type": "execute_result"
    }
   ],
   "source": [
    "dataset.isnull().sum(axis = 0)"
   ]
  },
  {
   "cell_type": "markdown",
   "metadata": {
    "_uuid": "c2f2558d12b1c1672cbe15ee870014e6e0ea67d1"
   },
   "source": [
    "### number of certified and denied of all the needed columns with their count"
   ]
  },
  {
   "cell_type": "code",
   "execution_count": 16,
   "metadata": {
    "_uuid": "3dc5b70d8713260a96678eaaa318a129e6ddf1b2"
   },
   "outputs": [
    {
     "name": "stdout",
     "output_type": "stream",
     "text": [
      "(2694002, 10)\n"
     ]
    }
   ],
   "source": [
    "print(dataset.shape)\n",
    "#print(table_3.shape)"
   ]
  },
  {
   "cell_type": "code",
   "execution_count": 17,
   "metadata": {
    "_uuid": "a50a30ccdbf542a21962c8f3ea891f8ccad47e02"
   },
   "outputs": [
    {
     "data": {
      "text/plain": [
       "CERTIFIED    2600241\n",
       "DENIED         93761\n",
       "Name: CASE_STATUS, dtype: int64"
      ]
     },
     "execution_count": 17,
     "metadata": {},
     "output_type": "execute_result"
    }
   ],
   "source": [
    "# check count for certified and denied case_status\n",
    "dataset.CASE_STATUS.value_counts()"
   ]
  },
  {
   "cell_type": "markdown",
   "metadata": {
    "_uuid": "87da095b0f7e3e038bf0b28d90a2008d3516f82e"
   },
   "source": [
    "### Downsampling the Data to match the ratio of certified and denied samples"
   ]
  },
  {
   "cell_type": "code",
   "execution_count": 18,
   "metadata": {
    "_uuid": "5bdc0436ec1858f4296a2c210dc011355979041b"
   },
   "outputs": [],
   "source": [
    "dataset_Dx = dataset[dataset['CASE_STATUS'] == 'DENIED']"
   ]
  },
  {
   "cell_type": "code",
   "execution_count": 19,
   "metadata": {
    "_uuid": "c507402c0f9077857931a9708f3094cbe805d18b"
   },
   "outputs": [],
   "source": [
    "dataset_Cx = dataset[dataset['CASE_STATUS'] == 'CERTIFIED']"
   ]
  },
  {
   "cell_type": "code",
   "execution_count": 20,
   "metadata": {
    "_uuid": "ed60d146d195a78c92e46ddbab254835ae0ef760"
   },
   "outputs": [],
   "source": [
    "Input_Certified, Input_Certified_extra, y_certified, y_certified_extra = train_test_split(dataset[dataset.CASE_STATUS == 'CERTIFIED'],\\\n",
    "                                                                                          dataset_Cx.CASE_STATUS, train_size= 0.06, random_state=1)\n"
   ]
  },
  {
   "cell_type": "code",
   "execution_count": 21,
   "metadata": {
    "_uuid": "4601044a42514e9a1e257a1669f21d2c2c68f2c8"
   },
   "outputs": [],
   "source": [
    "training_dataframe = Input_Certified.append(dataset_Dx)"
   ]
  },
  {
   "cell_type": "code",
   "execution_count": 22,
   "metadata": {
    "_uuid": "8d0f143da47c3973a21aa1dd8c62d3a979c69462"
   },
   "outputs": [
    {
     "data": {
      "image/png": "[encoded data removed]",
      "text/plain": [
       "<Figure size 432x288 with 1 Axes>"
      ]
     },
     "metadata": {
      "needs_background": "light"
     },
     "output_type": "display_data"
    }
   ],
   "source": [
    "## plot the distribution of the certified and denied samples after downsampling\n",
    "plot_after_ds = training_dataframe['CASE_STATUS'].value_counts().plot(title = 'case status vs No. of petitoons', \\\n",
    "                                                                kind = 'bar', color = 'brown')\n",
    "plot_after_ds.set_xlabel(\"case status\")\n",
    "plot_after_ds.set_ylabel(\"No. of petitions\")\n",
    "for p in plot_after_ds.patches:\n",
    "    plot_after_ds.annotate(str(p.get_height()), (p.get_x() * 1.0050, p.get_height() * 1.005))\n",
    "plt.show()"
   ]
  },
  {
   "cell_type": "markdown",
   "metadata": {
    "_uuid": "dc66dee349d0b946379f1f7b89ddb7bcfd7a4d3f"
   },
   "source": [
    "# Features Creation and Categorisation"
   ]
  },
  {
   "cell_type": "markdown",
   "metadata": {
    "_uuid": "61d4a82200668c19932cbd61d64f1db4ac15b2f0"
   },
   "source": [
    "here we are using one-hot encoding technique to convert categorical data to numerical data. we will feed this categorical data to our model to improve its efficiency."
   ]
  },
  {
   "cell_type": "code",
   "execution_count": 23,
   "metadata": {
    "_uuid": "47592d60b2bf3243094e0a68ac024d20f80b4793"
   },
   "outputs": [
    {
     "name": "stdout",
     "output_type": "stream",
     "text": [
      "Case Status  2\n",
      "Unique Employers  80566\n",
      "Prevailing Wages  24804\n",
      "Unique SOCs  983\n",
      "Unique Job Titles  53272\n",
      "Unique Filing Year  6\n",
      "Unique Worksite State  8637\n",
      "Unique Employment Type  2\n"
     ]
    }
   ],
   "source": [
    "# one-hot encoding\n",
    "print(\"Case Status \",training_dataframe.CASE_STATUS.nunique())\n",
    "print(\"Unique Employers \",training_dataframe.EMPLOYER_NAME.nunique())\n",
    "print(\"Prevailing Wages \",training_dataframe.PREVAILING_WAGE.nunique())\n",
    "print(\"Unique SOCs \", training_dataframe.SOC_NAME.nunique())\n",
    "print(\"Unique Job Titles \",training_dataframe.JOB_TITLE.nunique())\n",
    "print(\"Unique Filing Year \",training_dataframe.YEAR.nunique())\n",
    "print(\"Unique Worksite State \",training_dataframe.WORKSITE.nunique())\n",
    "print(\"Unique Employment Type \", training_dataframe.FULL_TIME_POSITION.nunique())"
   ]
  },
  {
   "cell_type": "markdown",
   "metadata": {
    "_uuid": "9a94cb482fa7b14a1056b21459b6fbcfb325d3a5"
   },
   "source": [
    "### Feature Categorisation Functions"
   ]
  },
  {
   "cell_type": "code",
   "execution_count": 24,
   "metadata": {
    "_uuid": "7de2e4ffe0cb05eb2eb353c3d27efaad83b62b95"
   },
   "outputs": [],
   "source": [
    "def wage_categorization(wage):\n",
    "    if wage <=40000:\n",
    "        return \"VERY LOW\"\n",
    "    elif wage >40000 and wage <= 80000:\n",
    "        return \"LOW\"\n",
    "    elif wage >80000 and wage <= 100000:\n",
    "        return \"MEDIUM\"\n",
    "    elif wage >100000 and wage<=150000:\n",
    "        return \"HIGH\"\n",
    "    elif wage >=150000:\n",
    "        return \"VERY HIGH\""
   ]
  },
  {
   "cell_type": "code",
   "execution_count": 25,
   "metadata": {
    "_uuid": "5e1c0427038180af20ff2017ec2dd9ef276c8d35"
   },
   "outputs": [],
   "source": [
    "def categorisation_visagrant(ratio_of_acceptance):\n",
    "    if ratio_of_acceptance == -1:\n",
    "        return \"AR\"\n",
    "    elif ratio_of_acceptance >=0.0 and ratio_of_acceptance<0.20:\n",
    "        return \"VLA\"\n",
    "    elif ratio_of_acceptance>=0.20 and ratio_of_acceptance<0.40:\n",
    "        return \"LA\"\n",
    "    elif ratio_of_acceptance>=0.40 and ratio_of_acceptance<0.60:\n",
    "        return \"MA\"\n",
    "    elif ratio_of_acceptance>=0.60 and ratio_of_acceptance<0.80:\n",
    "        return \"HA\"\n",
    "    elif ratio_of_acceptance>=0.80:\n",
    "        return \"VHA\""
   ]
  },
  {
   "cell_type": "code",
   "execution_count": 26,
   "metadata": {
    "_uuid": "f9cf68ad1576e51974c6aef07bdef55a6afecf43"
   },
   "outputs": [],
   "source": [
    "def state_extractor(work_site):\n",
    "    return work_site.split(', ')[1]"
   ]
  },
  {
   "cell_type": "markdown",
   "metadata": {
    "_uuid": "21b545cf2d029599caa95c8770738ebe1f54a298"
   },
   "source": [
    "### Feature Creation for One-Hot Encoding"
   ]
  },
  {
   "cell_type": "code",
   "execution_count": 27,
   "metadata": {
    "_uuid": "082f2720988bf5ad0d59d7fb53061ac3542c1cd4"
   },
   "outputs": [],
   "source": [
    "training_dataframe['WORKSITE'] = training_dataframe['WORKSITE'].apply(state_extractor)"
   ]
  },
  {
   "cell_type": "code",
   "execution_count": 28,
   "metadata": {
    "_uuid": "53b2d6a6660efb4deca235d3d4139d1ea1e9e2f6"
   },
   "outputs": [
    {
     "data": {
      "text/plain": [
       "array(['PENNSYLVANIA', 'TEXAS', 'NEW YORK', 'CALIFORNIA', 'CONNECTICUT',\n",
       "       'WASHINGTON', 'MISSOURI', 'OREGON', 'VIRGINIA', 'MASSACHUSETTS',\n",
       "       'OHIO', 'ILLINOIS', 'FLORIDA', 'TENNESSEE', 'IDAHO', 'MARYLAND',\n",
       "       'GEORGIA', 'NORTH CAROLINA', 'NEBRASKA', 'MINNESOTA', 'DELAWARE',\n",
       "       'NEW HAMPSHIRE', 'ALABAMA', 'NEW JERSEY', 'WISCONSIN', 'ARIZONA',\n",
       "       'INDIANA', 'MICHIGAN', 'IOWA', 'COLORADO', 'NEW MEXICO',\n",
       "       'SOUTH CAROLINA', 'LOUISIANA', 'UTAH', 'KENTUCKY', 'ALASKA',\n",
       "       'DISTRICT OF COLUMBIA', 'OKLAHOMA', 'ARKANSAS', 'RHODE ISLAND',\n",
       "       'VERMONT', 'MAINE', 'MISSISSIPPI', 'NA', 'KANSAS', 'NEVADA',\n",
       "       'HAWAII', 'WYOMING', 'PUERTO RICO', 'WEST VIRGINIA', 'MONTANA',\n",
       "       'NORTH DAKOTA', 'SOUTH DAKOTA'], dtype=object)"
      ]
     },
     "execution_count": 28,
     "metadata": {},
     "output_type": "execute_result"
    }
   ],
   "source": [
    "training_dataframe.WORKSITE.unique()"
   ]
  },
  {
   "cell_type": "code",
   "execution_count": 29,
   "metadata": {
    "_uuid": "0319815331652cb65c8a4dd0fe5235c7468c08a5"
   },
   "outputs": [],
   "source": [
    "training_dataframe['WAGE_CATEGORY'] = training_dataframe['PREVAILING_WAGE'].apply(wage_categorization)"
   ]
  },
  {
   "cell_type": "code",
   "execution_count": 30,
   "metadata": {
    "_uuid": "43cf890aa24d4f99af339137095a5c0719044de2"
   },
   "outputs": [],
   "source": [
    "training_dataframe_1 = training_dataframe.loc[:,['EMPLOYER_NAME', 'CASE_STATUS']]\n",
    "training_dataframe_1s = training_dataframe.loc[:,['SOC_NAME', 'CASE_STATUS']]\n",
    "training_dataframe_1j = training_dataframe.loc[:,['JOB_TITLE', 'CASE_STATUS']]"
   ]
  },
  {
   "cell_type": "code",
   "execution_count": 31,
   "metadata": {
    "_uuid": "bd7eb300e1d9935ece5f79d067581013595d7f9d"
   },
   "outputs": [],
   "source": [
    "training_dataframe_2_C = training_dataframe_1[training_dataframe_1.CASE_STATUS == 'CERTIFIED'].EMPLOYER_NAME\n",
    "training_dataframe_2_Cs = training_dataframe_1s[training_dataframe_1s.CASE_STATUS == 'CERTIFIED'].SOC_NAME\n",
    "training_dataframe_2_Cj = training_dataframe_1j[training_dataframe_1j.CASE_STATUS == 'CERTIFIED'].JOB_TITLE\n",
    "positive_counts = training_dataframe_2_C.value_counts()\n",
    "positive_counts_s = training_dataframe_2_Cs.value_counts()\n",
    "positive_counts_j = training_dataframe_2_Cj.value_counts()"
   ]
  },
  {
   "cell_type": "code",
   "execution_count": 32,
   "metadata": {
    "_uuid": "da07435090a86389b7903d0778437142e98cbbf7"
   },
   "outputs": [],
   "source": [
    "total_counts = training_dataframe_1.EMPLOYER_NAME.value_counts()\n",
    "total_counts_s = training_dataframe_1s.SOC_NAME.value_counts()\n",
    "total_counts_j = training_dataframe_1j.JOB_TITLE.value_counts()"
   ]
  },
  {
   "cell_type": "code",
   "execution_count": 33,
   "metadata": {
    "_uuid": "6755bba72c05ea726ea005a4479e8322c156ad29"
   },
   "outputs": [],
   "source": [
    "final_ratio_series = positive_counts / total_counts\n",
    "\n",
    "final_ratio_series.fillna(-1, inplace=True)\n",
    "final_classification_employer = final_ratio_series.apply(categorisation_visagrant)\n",
    "training_dataframe['EMPLOYER_ACCEPTANCE'] = training_dataframe.EMPLOYER_NAME.map(final_classification_employer)"
   ]
  },
  {
   "cell_type": "code",
   "execution_count": 34,
   "metadata": {
    "_uuid": "db4a7efb9bc2c03addecc606a6fbc77c11c1fcbd"
   },
   "outputs": [],
   "source": [
    "final_ratio_series_s = positive_counts_s / total_counts_s\n",
    "final_ratio_series_s.fillna(-1, inplace=True)\n",
    "final_classification_soc = final_ratio_series_s.apply(categorisation_visagrant)\n",
    "training_dataframe['SOC_ACCEPTANCE'] = training_dataframe.SOC_NAME.map(final_classification_soc)"
   ]
  },
  {
   "cell_type": "code",
   "execution_count": 35,
   "metadata": {
    "_uuid": "f853095e12c5096600c475ff854ef97963be2164"
   },
   "outputs": [],
   "source": [
    "final_ratio_series_j = positive_counts_j / total_counts_j\n",
    "final_ratio_series_j.fillna(-1, inplace=True)\n",
    "final_classification_job = final_ratio_series_j.apply(categorisation_visagrant)\n",
    "training_dataframe['JOB_ACCEPTANCE'] = training_dataframe.JOB_TITLE.map(final_classification_job)"
   ]
  },
  {
   "cell_type": "code",
   "execution_count": 36,
   "metadata": {
    "_uuid": "9103790084b914ff8517ce086b75da7e1069bd05"
   },
   "outputs": [
    {
     "name": "stdout",
     "output_type": "stream",
     "text": [
      "Case Status  2\n",
      "Unique Employers  6\n",
      "Wages Category 5\n",
      "Unique SOCs  6\n",
      "Unique Job Titles  6\n",
      "Unique Filing Year  6\n",
      "Unique Worksite State  53\n",
      "Unique Employment Type  2\n"
     ]
    }
   ],
   "source": [
    "print(\"Case Status \",training_dataframe.CASE_STATUS.nunique())\n",
    "print(\"Unique Employers \",training_dataframe.EMPLOYER_ACCEPTANCE.nunique())\n",
    "print(\"Wages Category\", training_dataframe.WAGE_CATEGORY.nunique())\n",
    "print(\"Unique SOCs \", training_dataframe.SOC_ACCEPTANCE.nunique())\n",
    "print(\"Unique Job Titles \",training_dataframe.JOB_ACCEPTANCE.nunique())\n",
    "print(\"Unique Filing Year \",training_dataframe.YEAR.nunique())\n",
    "print(\"Unique Worksite State \",training_dataframe.WORKSITE.nunique())\n",
    "print(\"Unique Employment Type \", training_dataframe.FULL_TIME_POSITION.nunique())"
   ]
  },
  {
   "cell_type": "code",
   "execution_count": 37,
   "metadata": {
    "_uuid": "876777491b07b01c9ad6b8d9a9c1a952076b17bd"
   },
   "outputs": [],
   "source": [
    "dict_cs = {\"CERTIFIED\" : 1, \"DENIED\": 0}\n",
    "dict_fp = {\"Y\" : 1, \"N\" : 0}\n",
    "try:\n",
    "    \n",
    "    training_dataframe['CASE_STATUS'] = training_dataframe['CASE_STATUS'].apply(lambda x: dict_cs[x])\n",
    "    training_dataframe['FULL_TIME_POSITION'] = training_dataframe['FULL_TIME_POSITION'].apply(lambda x: dict_fp[x])\n",
    "except:\n",
    "    pass\n"
   ]
  },
  {
   "cell_type": "code",
   "execution_count": 38,
   "metadata": {
    "_uuid": "9037f499200049b094ef58d825299f49d9de3d79"
   },
   "outputs": [
    {
     "data": {
      "text/html": [
       "<div>\n",
       "<style scoped>\n",
       "    .dataframe tbody tr th:only-of-type {\n",
       "        vertical-align: middle;\n",
       "    }\n",
       "\n",
       "    .dataframe tbody tr th {\n",
       "        vertical-align: top;\n",
       "    }\n",
       "\n",
       "    .dataframe thead th {\n",
       "        text-align: right;\n",
       "    }\n",
       "</style>\n",
       "<table border=\"1\" class=\"dataframe\">\n",
       "  <thead>\n",
       "    <tr style=\"text-align: right;\">\n",
       "      <th></th>\n",
       "      <th>CASE_STATUS</th>\n",
       "      <th>YEAR</th>\n",
       "      <th>WORKSITE</th>\n",
       "      <th>WAGE_CATEGORY</th>\n",
       "      <th>EMPLOYER_ACCEPTANCE</th>\n",
       "      <th>JOB_ACCEPTANCE</th>\n",
       "      <th>SOC_ACCEPTANCE</th>\n",
       "      <th>FULL_TIME_POSITION</th>\n",
       "    </tr>\n",
       "  </thead>\n",
       "  <tbody>\n",
       "    <tr>\n",
       "      <th>39</th>\n",
       "      <td>0</td>\n",
       "      <td>2016</td>\n",
       "      <td>WASHINGTON</td>\n",
       "      <td>VERY HIGH</td>\n",
       "      <td>AR</td>\n",
       "      <td>LA</td>\n",
       "      <td>LA</td>\n",
       "      <td>1</td>\n",
       "    </tr>\n",
       "    <tr>\n",
       "      <th>47</th>\n",
       "      <td>0</td>\n",
       "      <td>2016</td>\n",
       "      <td>CALIFORNIA</td>\n",
       "      <td>VERY HIGH</td>\n",
       "      <td>AR</td>\n",
       "      <td>LA</td>\n",
       "      <td>LA</td>\n",
       "      <td>1</td>\n",
       "    </tr>\n",
       "    <tr>\n",
       "      <th>66</th>\n",
       "      <td>1</td>\n",
       "      <td>2016</td>\n",
       "      <td>GEORGIA</td>\n",
       "      <td>VERY HIGH</td>\n",
       "      <td>VHA</td>\n",
       "      <td>LA</td>\n",
       "      <td>LA</td>\n",
       "      <td>1</td>\n",
       "    </tr>\n",
       "    <tr>\n",
       "      <th>70</th>\n",
       "      <td>1</td>\n",
       "      <td>2016</td>\n",
       "      <td>PENNSYLVANIA</td>\n",
       "      <td>VERY HIGH</td>\n",
       "      <td>VHA</td>\n",
       "      <td>LA</td>\n",
       "      <td>LA</td>\n",
       "      <td>1</td>\n",
       "    </tr>\n",
       "    <tr>\n",
       "      <th>91</th>\n",
       "      <td>0</td>\n",
       "      <td>2016</td>\n",
       "      <td>MICHIGAN</td>\n",
       "      <td>HIGH</td>\n",
       "      <td>AR</td>\n",
       "      <td>VLA</td>\n",
       "      <td>LA</td>\n",
       "      <td>1</td>\n",
       "    </tr>\n",
       "  </tbody>\n",
       "</table>\n",
       "</div>"
      ],
      "text/plain": [
       "    CASE_STATUS  YEAR      WORKSITE WAGE_CATEGORY EMPLOYER_ACCEPTANCE  \\\n",
       "39            0  2016    WASHINGTON     VERY HIGH                  AR   \n",
       "47            0  2016    CALIFORNIA     VERY HIGH                  AR   \n",
       "66            1  2016       GEORGIA     VERY HIGH                 VHA   \n",
       "70            1  2016  PENNSYLVANIA     VERY HIGH                 VHA   \n",
       "91            0  2016      MICHIGAN          HIGH                  AR   \n",
       "\n",
       "   JOB_ACCEPTANCE SOC_ACCEPTANCE  FULL_TIME_POSITION  \n",
       "39             LA             LA                   1  \n",
       "47             LA             LA                   1  \n",
       "66             LA             LA                   1  \n",
       "70             LA             LA                   1  \n",
       "91            VLA             LA                   1  "
      ]
     },
     "execution_count": 38,
     "metadata": {},
     "output_type": "execute_result"
    }
   ],
   "source": [
    "training_dataframe['YEAR'] = training_dataframe['YEAR'].astype('int')\n",
    "training_dataframe.sort_index(inplace = True)\n",
    "training_dataframe = training_dataframe.loc[:, ['CASE_STATUS', 'YEAR',\\\n",
    "                                                'WORKSITE', 'WAGE_CATEGORY',  'EMPLOYER_ACCEPTANCE', 'JOB_ACCEPTANCE', 'SOC_ACCEPTANCE', 'FULL_TIME_POSITION']]\n",
    "training_dataframe.head()"
   ]
  },
  {
   "cell_type": "markdown",
   "metadata": {
    "_uuid": "4625d038fe1764bc705d5e5e32a522d3d7feb171"
   },
   "source": [
    "### Apply One-hot encoding"
   ]
  },
  {
   "cell_type": "code",
   "execution_count": 39,
   "metadata": {
    "_uuid": "d0d7a319637c72afd5be0d4d845f3fc642055d0b"
   },
   "outputs": [
    {
     "data": {
      "text/html": [
       "<div>\n",
       "<style scoped>\n",
       "    .dataframe tbody tr th:only-of-type {\n",
       "        vertical-align: middle;\n",
       "    }\n",
       "\n",
       "    .dataframe tbody tr th {\n",
       "        vertical-align: top;\n",
       "    }\n",
       "\n",
       "    .dataframe thead th {\n",
       "        text-align: right;\n",
       "    }\n",
       "</style>\n",
       "<table border=\"1\" class=\"dataframe\">\n",
       "  <thead>\n",
       "    <tr style=\"text-align: right;\">\n",
       "      <th></th>\n",
       "      <th>CASE_STATUS</th>\n",
       "      <th>YEAR_2012</th>\n",
       "      <th>YEAR_2013</th>\n",
       "      <th>YEAR_2014</th>\n",
       "      <th>YEAR_2015</th>\n",
       "      <th>YEAR_2016</th>\n",
       "      <th>WORKSITE_ALASKA</th>\n",
       "      <th>WORKSITE_ARIZONA</th>\n",
       "      <th>WORKSITE_ARKANSAS</th>\n",
       "      <th>WORKSITE_CALIFORNIA</th>\n",
       "      <th>...</th>\n",
       "      <th>JOB_ACCEPTANCE_HA</th>\n",
       "      <th>JOB_ACCEPTANCE_LA</th>\n",
       "      <th>JOB_ACCEPTANCE_MA</th>\n",
       "      <th>JOB_ACCEPTANCE_VHA</th>\n",
       "      <th>JOB_ACCEPTANCE_VLA</th>\n",
       "      <th>SOC_ACCEPTANCE_HA</th>\n",
       "      <th>SOC_ACCEPTANCE_LA</th>\n",
       "      <th>SOC_ACCEPTANCE_MA</th>\n",
       "      <th>SOC_ACCEPTANCE_VHA</th>\n",
       "      <th>SOC_ACCEPTANCE_VLA</th>\n",
       "    </tr>\n",
       "  </thead>\n",
       "  <tbody>\n",
       "    <tr>\n",
       "      <th>39</th>\n",
       "      <td>0</td>\n",
       "      <td>0</td>\n",
       "      <td>0</td>\n",
       "      <td>0</td>\n",
       "      <td>0</td>\n",
       "      <td>1</td>\n",
       "      <td>0</td>\n",
       "      <td>0</td>\n",
       "      <td>0</td>\n",
       "      <td>0</td>\n",
       "      <td>...</td>\n",
       "      <td>0</td>\n",
       "      <td>1</td>\n",
       "      <td>0</td>\n",
       "      <td>0</td>\n",
       "      <td>0</td>\n",
       "      <td>0</td>\n",
       "      <td>1</td>\n",
       "      <td>0</td>\n",
       "      <td>0</td>\n",
       "      <td>0</td>\n",
       "    </tr>\n",
       "    <tr>\n",
       "      <th>47</th>\n",
       "      <td>0</td>\n",
       "      <td>0</td>\n",
       "      <td>0</td>\n",
       "      <td>0</td>\n",
       "      <td>0</td>\n",
       "      <td>1</td>\n",
       "      <td>0</td>\n",
       "      <td>0</td>\n",
       "      <td>0</td>\n",
       "      <td>1</td>\n",
       "      <td>...</td>\n",
       "      <td>0</td>\n",
       "      <td>1</td>\n",
       "      <td>0</td>\n",
       "      <td>0</td>\n",
       "      <td>0</td>\n",
       "      <td>0</td>\n",
       "      <td>1</td>\n",
       "      <td>0</td>\n",
       "      <td>0</td>\n",
       "      <td>0</td>\n",
       "    </tr>\n",
       "    <tr>\n",
       "      <th>66</th>\n",
       "      <td>1</td>\n",
       "      <td>0</td>\n",
       "      <td>0</td>\n",
       "      <td>0</td>\n",
       "      <td>0</td>\n",
       "      <td>1</td>\n",
       "      <td>0</td>\n",
       "      <td>0</td>\n",
       "      <td>0</td>\n",
       "      <td>0</td>\n",
       "      <td>...</td>\n",
       "      <td>0</td>\n",
       "      <td>1</td>\n",
       "      <td>0</td>\n",
       "      <td>0</td>\n",
       "      <td>0</td>\n",
       "      <td>0</td>\n",
       "      <td>1</td>\n",
       "      <td>0</td>\n",
       "      <td>0</td>\n",
       "      <td>0</td>\n",
       "    </tr>\n",
       "  </tbody>\n",
       "</table>\n",
       "<p>3 rows × 78 columns</p>\n",
       "</div>"
      ],
      "text/plain": [
       "    CASE_STATUS  YEAR_2012  YEAR_2013  YEAR_2014  YEAR_2015  YEAR_2016  \\\n",
       "39            0          0          0          0          0          1   \n",
       "47            0          0          0          0          0          1   \n",
       "66            1          0          0          0          0          1   \n",
       "\n",
       "    WORKSITE_ALASKA  WORKSITE_ARIZONA  WORKSITE_ARKANSAS  WORKSITE_CALIFORNIA  \\\n",
       "39                0                 0                  0                    0   \n",
       "47                0                 0                  0                    1   \n",
       "66                0                 0                  0                    0   \n",
       "\n",
       "    ...  JOB_ACCEPTANCE_HA  JOB_ACCEPTANCE_LA  JOB_ACCEPTANCE_MA  \\\n",
       "39  ...                  0                  1                  0   \n",
       "47  ...                  0                  1                  0   \n",
       "66  ...                  0                  1                  0   \n",
       "\n",
       "    JOB_ACCEPTANCE_VHA  JOB_ACCEPTANCE_VLA  SOC_ACCEPTANCE_HA  \\\n",
       "39                   0                   0                  0   \n",
       "47                   0                   0                  0   \n",
       "66                   0                   0                  0   \n",
       "\n",
       "    SOC_ACCEPTANCE_LA  SOC_ACCEPTANCE_MA  SOC_ACCEPTANCE_VHA  \\\n",
       "39                  1                  0                   0   \n",
       "47                  1                  0                   0   \n",
       "66                  1                  0                   0   \n",
       "\n",
       "    SOC_ACCEPTANCE_VLA  \n",
       "39                   0  \n",
       "47                   0  \n",
       "66                   0  \n",
       "\n",
       "[3 rows x 78 columns]"
      ]
     },
     "execution_count": 39,
     "metadata": {},
     "output_type": "execute_result"
    }
   ],
   "source": [
    "final_df_train = pd.get_dummies(training_dataframe, columns=['YEAR', 'WORKSITE', 'FULL_TIME_POSITION', 'WAGE_CATEGORY', 'EMPLOYER_ACCEPTANCE',\n",
    "                                                             \n",
    "                                                                'JOB_ACCEPTANCE', 'SOC_ACCEPTANCE' ], drop_first=True)\n",
    "final_df_train.head(3)"
   ]
  },
  {
   "cell_type": "markdown",
   "metadata": {
    "_uuid": "b05bcd5ec36c8778086598ae0bbbbf8b702012a3"
   },
   "source": [
    "### RFE for feature elimination"
   ]
  },
  {
   "cell_type": "code",
   "execution_count": 40,
   "metadata": {},
   "outputs": [
    {
     "name": "stdout",
     "output_type": "stream",
     "text": [
      "(1000, 10) (1000,)\n"
     ]
    }
   ],
   "source": [
    "X, y = make_regression(n_samples=1000, n_features=10, n_informative=5, random_state=1)\n",
    "print(X.shape, y.shape)"
   ]
  },
  {
   "cell_type": "code",
   "execution_count": 41,
   "metadata": {},
   "outputs": [
    {
     "name": "stdout",
     "output_type": "stream",
     "text": [
      "MAE: -27.177 (2.652)\n"
     ]
    }
   ],
   "source": [
    "rfe = RFE(estimator=DecisionTreeRegressor(), n_features_to_select=5)\n",
    "model = DecisionTreeRegressor()\n",
    "pipeline = Pipeline(steps=[('s',rfe),('m',model)])\n",
    "# evaluate model\n",
    "cv = RepeatedKFold(n_splits=10, n_repeats=3, random_state=1)\n",
    "n_scores = cross_val_score(pipeline, X, y, scoring='neg_mean_absolute_error', cv=cv, n_jobs=-1, error_score='raise')\n",
    "# performance\n",
    "print('MAE: %.3f (%.3f)' % (mean(n_scores), std(n_scores)))"
   ]
  },
  {
   "cell_type": "code",
   "execution_count": 42,
   "metadata": {
    "_uuid": "556ab0ce916d1b0e95d94ac43f11ca61e74837e1",
    "scrolled": false
   },
   "outputs": [],
   "source": [
    "#model = LogisticRegression()\n",
    "#rfe = RFE(model, 30)\n",
    "#fit = rfe.fit(final_df_train.iloc[2:,1:], final_df_train.iloc[2:,0])\n",
    "#support_rfe = rfe.support_\n",
    "#length_cols = list(final_df_train.iloc[2:,1:].columns.values)\n",
    "#list_selected = []\n",
    "#for index in range(len(length_cols)):\n",
    "   # if support_rfe[index] == True:\n",
    "  #      list_selected.append(length_cols[index])\n",
    " #   else:\n",
    "#        pass\n"
   ]
  },
  {
   "cell_type": "code",
   "execution_count": 43,
   "metadata": {},
   "outputs": [
    {
     "data": {
      "text/plain": [
       "array([1., 1., 1., 1., 1., 1., 1., 1., 1., 1., 1., 1., 1., 1., 1., 1., 1.,\n",
       "       1., 1., 1., 1., 1., 1., 1., 1., 1., 1., 1., 1., 1., 1., 1., 1., 1.,\n",
       "       1., 1., 1., 1., 1., 1., 1., 1., 1., 1., 1., 1., 1., 1., 1., 1., 1.,\n",
       "       1., 1., 1., 1., 1., 1., 1., 1., 1., 1., 1., 1., 1., 1., 1., 1., 1.,\n",
       "       1., 1., 1., 1., 1., 1., 1., 1., 1.])"
      ]
     },
     "execution_count": 43,
     "metadata": {},
     "output_type": "execute_result"
    }
   ],
   "source": [
    "# scaling our data \n",
    "X_train, X_test, y_train, y_test = train_test_split(final_df_train.iloc[:,1:], final_df_train.iloc[:, 0], test_size = 0.20, random_state=42)\n",
    "scaler = preprocessing.StandardScaler().fit(X_train)\n",
    "scaler\n",
    "StandardScaler()\n",
    "scaler.mean_\n",
    "scaler.scale_\n",
    "\n",
    "X_scaled = scaler.transform(X_train)\n",
    "X_scaled\n",
    "\n",
    "X_scaled.mean(axis=0)\n",
    "X_scaled.std(axis=0)\n"
   ]
  },
  {
   "cell_type": "code",
   "execution_count": 44,
   "metadata": {
    "_uuid": "1464f5e91387ed1744d3fc0d93491a52d12304f0"
   },
   "outputs": [],
   "source": [
    "#X, y = make_classification(random_state=42)\n",
    "#X_train, X_test, y_train, y_test = train_test_split(final_df_train.iloc[:,1:], final_df_train.iloc[:, 0], test_size = 0.20, random_state=42)\n",
    "#y_test[y_test==1].shape\n",
    "#pipe = make_pipeline(StandardScaler(), LogisticRegression())\n",
    "#pipe.fit(X_train, y_train)\n",
    "#Pipeline(steps=[('standardscaler', StandardScaler()),\n",
    " #               ('logisticregression', LogisticRegression())])\n",
    "#pipe.score(X_test, y_test)"
   ]
  },
  {
   "cell_type": "code",
   "execution_count": 46,
   "metadata": {
    "_uuid": "9114b0545212e811b23614b93254daa7b84d5f7f"
   },
   "outputs": [
    {
     "data": {
      "text/html": [
       "<div>\n",
       "<style scoped>\n",
       "    .dataframe tbody tr th:only-of-type {\n",
       "        vertical-align: middle;\n",
       "    }\n",
       "\n",
       "    .dataframe tbody tr th {\n",
       "        vertical-align: top;\n",
       "    }\n",
       "\n",
       "    .dataframe thead th {\n",
       "        text-align: right;\n",
       "    }\n",
       "</style>\n",
       "<table border=\"1\" class=\"dataframe\">\n",
       "  <thead>\n",
       "    <tr style=\"text-align: right;\">\n",
       "      <th></th>\n",
       "      <th>YEAR_2012</th>\n",
       "      <th>YEAR_2013</th>\n",
       "      <th>YEAR_2014</th>\n",
       "      <th>YEAR_2015</th>\n",
       "      <th>YEAR_2016</th>\n",
       "      <th>WORKSITE_ALASKA</th>\n",
       "      <th>WORKSITE_ARIZONA</th>\n",
       "      <th>WORKSITE_ARKANSAS</th>\n",
       "      <th>WORKSITE_CALIFORNIA</th>\n",
       "      <th>WORKSITE_COLORADO</th>\n",
       "      <th>...</th>\n",
       "      <th>JOB_ACCEPTANCE_HA</th>\n",
       "      <th>JOB_ACCEPTANCE_LA</th>\n",
       "      <th>JOB_ACCEPTANCE_MA</th>\n",
       "      <th>JOB_ACCEPTANCE_VHA</th>\n",
       "      <th>JOB_ACCEPTANCE_VLA</th>\n",
       "      <th>SOC_ACCEPTANCE_HA</th>\n",
       "      <th>SOC_ACCEPTANCE_LA</th>\n",
       "      <th>SOC_ACCEPTANCE_MA</th>\n",
       "      <th>SOC_ACCEPTANCE_VHA</th>\n",
       "      <th>SOC_ACCEPTANCE_VLA</th>\n",
       "    </tr>\n",
       "  </thead>\n",
       "  <tbody>\n",
       "    <tr>\n",
       "      <th>920418</th>\n",
       "      <td>0</td>\n",
       "      <td>0</td>\n",
       "      <td>0</td>\n",
       "      <td>1</td>\n",
       "      <td>0</td>\n",
       "      <td>0</td>\n",
       "      <td>0</td>\n",
       "      <td>0</td>\n",
       "      <td>1</td>\n",
       "      <td>0</td>\n",
       "      <td>...</td>\n",
       "      <td>0</td>\n",
       "      <td>0</td>\n",
       "      <td>0</td>\n",
       "      <td>1</td>\n",
       "      <td>0</td>\n",
       "      <td>1</td>\n",
       "      <td>0</td>\n",
       "      <td>0</td>\n",
       "      <td>0</td>\n",
       "      <td>0</td>\n",
       "    </tr>\n",
       "    <tr>\n",
       "      <th>2662913</th>\n",
       "      <td>0</td>\n",
       "      <td>0</td>\n",
       "      <td>0</td>\n",
       "      <td>0</td>\n",
       "      <td>0</td>\n",
       "      <td>0</td>\n",
       "      <td>0</td>\n",
       "      <td>0</td>\n",
       "      <td>0</td>\n",
       "      <td>0</td>\n",
       "      <td>...</td>\n",
       "      <td>0</td>\n",
       "      <td>1</td>\n",
       "      <td>0</td>\n",
       "      <td>0</td>\n",
       "      <td>0</td>\n",
       "      <td>0</td>\n",
       "      <td>1</td>\n",
       "      <td>0</td>\n",
       "      <td>0</td>\n",
       "      <td>0</td>\n",
       "    </tr>\n",
       "    <tr>\n",
       "      <th>1358974</th>\n",
       "      <td>0</td>\n",
       "      <td>0</td>\n",
       "      <td>1</td>\n",
       "      <td>0</td>\n",
       "      <td>0</td>\n",
       "      <td>0</td>\n",
       "      <td>0</td>\n",
       "      <td>0</td>\n",
       "      <td>0</td>\n",
       "      <td>0</td>\n",
       "      <td>...</td>\n",
       "      <td>1</td>\n",
       "      <td>0</td>\n",
       "      <td>0</td>\n",
       "      <td>0</td>\n",
       "      <td>0</td>\n",
       "      <td>1</td>\n",
       "      <td>0</td>\n",
       "      <td>0</td>\n",
       "      <td>0</td>\n",
       "      <td>0</td>\n",
       "    </tr>\n",
       "  </tbody>\n",
       "</table>\n",
       "<p>3 rows × 77 columns</p>\n",
       "</div>"
      ],
      "text/plain": [
       "         YEAR_2012  YEAR_2013  YEAR_2014  YEAR_2015  YEAR_2016  \\\n",
       "920418           0          0          0          1          0   \n",
       "2662913          0          0          0          0          0   \n",
       "1358974          0          0          1          0          0   \n",
       "\n",
       "         WORKSITE_ALASKA  WORKSITE_ARIZONA  WORKSITE_ARKANSAS  \\\n",
       "920418                 0                 0                  0   \n",
       "2662913                0                 0                  0   \n",
       "1358974                0                 0                  0   \n",
       "\n",
       "         WORKSITE_CALIFORNIA  WORKSITE_COLORADO  ...  JOB_ACCEPTANCE_HA  \\\n",
       "920418                     1                  0  ...                  0   \n",
       "2662913                    0                  0  ...                  0   \n",
       "1358974                    0                  0  ...                  1   \n",
       "\n",
       "         JOB_ACCEPTANCE_LA  JOB_ACCEPTANCE_MA  JOB_ACCEPTANCE_VHA  \\\n",
       "920418                   0                  0                   1   \n",
       "2662913                  1                  0                   0   \n",
       "1358974                  0                  0                   0   \n",
       "\n",
       "         JOB_ACCEPTANCE_VLA  SOC_ACCEPTANCE_HA  SOC_ACCEPTANCE_LA  \\\n",
       "920418                    0                  1                  0   \n",
       "2662913                   0                  0                  1   \n",
       "1358974                   0                  1                  0   \n",
       "\n",
       "         SOC_ACCEPTANCE_MA  SOC_ACCEPTANCE_VHA  SOC_ACCEPTANCE_VLA  \n",
       "920418                   0                   0                   0  \n",
       "2662913                  0                   0                   0  \n",
       "1358974                  0                   0                   0  \n",
       "\n",
       "[3 rows x 77 columns]"
      ]
     },
     "execution_count": 46,
     "metadata": {},
     "output_type": "execute_result"
    }
   ],
   "source": [
    "X_train.head(3)"
   ]
  },
  {
   "cell_type": "markdown",
   "metadata": {
    "_uuid": "b862b6be2205fc57ac2be10157dbd97934c4940a"
   },
   "source": [
    "## Logistic Regression Model"
   ]
  },
  {
   "cell_type": "code",
   "execution_count": 53,
   "metadata": {
    "_uuid": "af900f364bbde301c923a75fac846049cdb0a670",
    "scrolled": true
   },
   "outputs": [
    {
     "name": "stderr",
     "output_type": "stream",
     "text": [
      "/Users/ankitgusain/opt/anaconda3/lib/python3.8/site-packages/sklearn/linear_model/_logistic.py:763: ConvergenceWarning: lbfgs failed to converge (status=1):\n",
      "STOP: TOTAL NO. of ITERATIONS REACHED LIMIT.\n",
      "\n",
      "Increase the number of iterations (max_iter) or scale the data as shown in:\n",
      "    https://scikit-learn.org/stable/modules/preprocessing.html\n",
      "Please also refer to the documentation for alternative solver options:\n",
      "    https://scikit-learn.org/stable/modules/linear_model.html#logistic-regression\n",
      "  n_iter_i = _check_optimize_result(\n"
     ]
    },
    {
     "data": {
      "text/plain": [
       "LogisticRegression()"
      ]
     },
     "execution_count": 53,
     "metadata": {},
     "output_type": "execute_result"
    }
   ],
   "source": [
    "lr_clf = linear_model.LogisticRegression()\n",
    "lr_clf.fit(X_train, y_train)  "
   ]
  },
  {
   "cell_type": "code",
   "execution_count": 54,
   "metadata": {
    "_uuid": "133ca70e477864e6e8388e31ec4ec282683c9e2b"
   },
   "outputs": [
    {
     "name": "stdout",
     "output_type": "stream",
     "text": [
      "test 842903     1\n",
      "2885837    0\n",
      "2974664    1\n",
      "2878248    1\n",
      "2894357    1\n",
      "2013811    1\n",
      "2500080    1\n",
      "1242093    1\n",
      "606752     1\n",
      "991013     1\n",
      "Name: CASE_STATUS, dtype: int64\n",
      "pred [1 0 1 1 1 1 1 0 1 1]\n",
      "[[14575  4195]\n",
      " [ 1235 29950]]\n",
      "              precision    recall  f1-score   support\n",
      "\n",
      "           0       0.92      0.78      0.84     18770\n",
      "           1       0.88      0.96      0.92     31185\n",
      "\n",
      "    accuracy                           0.89     49955\n",
      "   macro avg       0.90      0.87      0.88     49955\n",
      "weighted avg       0.89      0.89      0.89     49955\n",
      "\n"
     ]
    }
   ],
   "source": [
    "y_pred_lr = lr_clf.predict(X_test)\n",
    "\n",
    "probs = lr_clf.predict_proba(X_test)\n",
    "\n",
    "print(\"test\", y_test[:10])\n",
    "print(\"pred\", y_pred_lr[:10])\n",
    "\n",
    "print(metrics.confusion_matrix(y_test,y_pred_lr))\n",
    "print(metrics.classification_report(y_test, y_pred_lr))"
   ]
  }
 ],
 "metadata": {
  "kernelspec": {
   "display_name": "Python 3",
   "language": "python",
   "name": "python3"
  },
  "language_info": {
   "codemirror_mode": {
    "name": "ipython",
    "version": 3
   },
   "file_extension": ".py",
   "mimetype": "text/x-python",
   "name": "python",
   "nbconvert_exporter": "python",
   "pygments_lexer": "ipython3",
   "version": "3.8.8"
  }
 },
 "nbformat": 4,
 "nbformat_minor": 1
}
